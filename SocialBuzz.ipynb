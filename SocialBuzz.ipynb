{
 "cells": [
  {
   "cell_type": "code",
   "execution_count": 20,
   "metadata": {},
   "outputs": [],
   "source": [
    "import pandas as pd\n",
    "content = pd.read_csv('Content.csv')\n",
    "reaction = pd.read_csv('Reactions.csv')\n",
    "reaction_type = pd.read_csv('Reactiontypes.csv')\n"
   ]
  },
  {
   "cell_type": "code",
   "execution_count": 21,
   "metadata": {},
   "outputs": [
    {
     "name": "stdout",
     "output_type": "stream",
     "text": [
      "                             Content ID Content_Type        Category\n",
      "0  97522e57-d9ab-4bd6-97bf-c24d952602d2        photo        Studying\n",
      "1  9f737e0a-3cdd-4d29-9d24-753f4e3be810        photo  healthy eating\n",
      "2  230c4e4d-70c3-461d-b42c-ec09396efb3f        photo  healthy eating\n",
      "3  356fff80-da4d-4785-9f43-bc1261031dc6        photo      technology\n",
      "4  01ab84dd-6364-4236-abbb-3f237db77180        video            food\n"
     ]
    }
   ],
   "source": [
    "# Remove the Unnamed column\n",
    "content = content.drop('Unnamed: 0', axis=1)\n",
    "\n",
    "# Change the name of Type column to Content_Type\n",
    "content = content.rename(columns={'Type': 'Content_Type'})\n",
    "\n",
    "# Drop User ID column\n",
    "content = content.drop('User ID', axis=1)\n",
    "content = content.drop('URL', axis=1)\n",
    "\n",
    "# Drop null values\n",
    "content = content.dropna()\n",
    "\n",
    "# Drop duplicate rows\n",
    "content = content.drop_duplicates()\n",
    "\n",
    "# Print the cleaned dataset\n",
    "print(content.head())"
   ]
  },
  {
   "cell_type": "code",
   "execution_count": 22,
   "metadata": {},
   "outputs": [
    {
     "name": "stdout",
     "output_type": "stream",
     "text": [
      "                             Content ID reaction_type            Datetime\n",
      "1  97522e57-d9ab-4bd6-97bf-c24d952602d2       disgust 2020-11-07 09:43:50\n",
      "2  97522e57-d9ab-4bd6-97bf-c24d952602d2       dislike 2021-06-17 12:22:51\n",
      "3  97522e57-d9ab-4bd6-97bf-c24d952602d2        scared 2021-04-18 05:13:58\n",
      "4  97522e57-d9ab-4bd6-97bf-c24d952602d2       disgust 2021-01-06 19:13:01\n",
      "5  97522e57-d9ab-4bd6-97bf-c24d952602d2    interested 2020-08-23 12:25:58\n"
     ]
    }
   ],
   "source": [
    "\n",
    "\n",
    "# Remove the Unnamed column\n",
    "reaction = reaction.loc[:, ~reaction.columns.str.contains('^Unnamed')]\n",
    "\n",
    "# Rename the Type column\n",
    "reaction = reaction.rename(columns={'Type': 'reaction_type'})\n",
    "\n",
    "# Drop User ID column\n",
    "reaction = reaction.drop('User ID', axis=1)\n",
    "\n",
    "# Drop nulls\n",
    "reaction = reaction.dropna()\n",
    "\n",
    "# Drop duplicates\n",
    "reaction = reaction.drop_duplicates()\n",
    "# change the to date type\n",
    "reaction['Datetime'] = pd.to_datetime(reaction['Datetime'])\n",
    "\n",
    "# Print the cleaned dataset\n",
    "print(reaction.head())\n"
   ]
  },
  {
   "cell_type": "code",
   "execution_count": 25,
   "metadata": {},
   "outputs": [
    {
     "data": {
      "text/html": [
       "<div>\n",
       "<style scoped>\n",
       "    .dataframe tbody tr th:only-of-type {\n",
       "        vertical-align: middle;\n",
       "    }\n",
       "\n",
       "    .dataframe tbody tr th {\n",
       "        vertical-align: top;\n",
       "    }\n",
       "\n",
       "    .dataframe thead th {\n",
       "        text-align: right;\n",
       "    }\n",
       "</style>\n",
       "<table border=\"1\" class=\"dataframe\">\n",
       "  <thead>\n",
       "    <tr style=\"text-align: right;\">\n",
       "      <th></th>\n",
       "      <th>reaction_type</th>\n",
       "      <th>Sentiment</th>\n",
       "      <th>Score</th>\n",
       "    </tr>\n",
       "  </thead>\n",
       "  <tbody>\n",
       "    <tr>\n",
       "      <th>0</th>\n",
       "      <td>heart</td>\n",
       "      <td>positive</td>\n",
       "      <td>60</td>\n",
       "    </tr>\n",
       "    <tr>\n",
       "      <th>1</th>\n",
       "      <td>want</td>\n",
       "      <td>positive</td>\n",
       "      <td>70</td>\n",
       "    </tr>\n",
       "    <tr>\n",
       "      <th>2</th>\n",
       "      <td>disgust</td>\n",
       "      <td>negative</td>\n",
       "      <td>0</td>\n",
       "    </tr>\n",
       "    <tr>\n",
       "      <th>3</th>\n",
       "      <td>hate</td>\n",
       "      <td>negative</td>\n",
       "      <td>5</td>\n",
       "    </tr>\n",
       "    <tr>\n",
       "      <th>4</th>\n",
       "      <td>interested</td>\n",
       "      <td>positive</td>\n",
       "      <td>30</td>\n",
       "    </tr>\n",
       "    <tr>\n",
       "      <th>5</th>\n",
       "      <td>indifferent</td>\n",
       "      <td>neutral</td>\n",
       "      <td>20</td>\n",
       "    </tr>\n",
       "    <tr>\n",
       "      <th>6</th>\n",
       "      <td>love</td>\n",
       "      <td>positive</td>\n",
       "      <td>65</td>\n",
       "    </tr>\n",
       "    <tr>\n",
       "      <th>7</th>\n",
       "      <td>super love</td>\n",
       "      <td>positive</td>\n",
       "      <td>75</td>\n",
       "    </tr>\n",
       "    <tr>\n",
       "      <th>8</th>\n",
       "      <td>cherish</td>\n",
       "      <td>positive</td>\n",
       "      <td>70</td>\n",
       "    </tr>\n",
       "    <tr>\n",
       "      <th>9</th>\n",
       "      <td>adore</td>\n",
       "      <td>positive</td>\n",
       "      <td>72</td>\n",
       "    </tr>\n",
       "    <tr>\n",
       "      <th>10</th>\n",
       "      <td>like</td>\n",
       "      <td>positive</td>\n",
       "      <td>50</td>\n",
       "    </tr>\n",
       "    <tr>\n",
       "      <th>11</th>\n",
       "      <td>dislike</td>\n",
       "      <td>negative</td>\n",
       "      <td>10</td>\n",
       "    </tr>\n",
       "    <tr>\n",
       "      <th>12</th>\n",
       "      <td>intrigued</td>\n",
       "      <td>positive</td>\n",
       "      <td>45</td>\n",
       "    </tr>\n",
       "    <tr>\n",
       "      <th>13</th>\n",
       "      <td>peeking</td>\n",
       "      <td>neutral</td>\n",
       "      <td>35</td>\n",
       "    </tr>\n",
       "    <tr>\n",
       "      <th>14</th>\n",
       "      <td>scared</td>\n",
       "      <td>negative</td>\n",
       "      <td>15</td>\n",
       "    </tr>\n",
       "    <tr>\n",
       "      <th>15</th>\n",
       "      <td>worried</td>\n",
       "      <td>negative</td>\n",
       "      <td>12</td>\n",
       "    </tr>\n",
       "  </tbody>\n",
       "</table>\n",
       "</div>"
      ],
      "text/plain": [
       "   reaction_type Sentiment  Score\n",
       "0          heart  positive     60\n",
       "1           want  positive     70\n",
       "2        disgust  negative      0\n",
       "3           hate  negative      5\n",
       "4     interested  positive     30\n",
       "5    indifferent   neutral     20\n",
       "6           love  positive     65\n",
       "7     super love  positive     75\n",
       "8        cherish  positive     70\n",
       "9          adore  positive     72\n",
       "10          like  positive     50\n",
       "11       dislike  negative     10\n",
       "12     intrigued  positive     45\n",
       "13       peeking   neutral     35\n",
       "14        scared  negative     15\n",
       "15       worried  negative     12"
      ]
     },
     "execution_count": 25,
     "metadata": {},
     "output_type": "execute_result"
    }
   ],
   "source": [
    "reaction_type"
   ]
  },
  {
   "cell_type": "code",
   "execution_count": 24,
   "metadata": {},
   "outputs": [],
   "source": [
    "# Remove the Unnamed: 0 column:\n",
    "reaction_type = reaction_type.drop('Unnamed: 0', axis=1)\n",
    "# Rename the Type column to reaction:\n",
    "reaction_type = reaction_type.rename(columns={'Type': 'reaction_type'})\n",
    "# drop nulls\n",
    "reaction_type = reaction_type.dropna()\n",
    "# drop duplicates\n",
    "reaction_type = reaction_type.drop_duplicates()\n"
   ]
  },
  {
   "cell_type": "code",
   "execution_count": 28,
   "metadata": {},
   "outputs": [
    {
     "name": "stdout",
     "output_type": "stream",
     "text": [
      "                             Content ID Content_Type        Category  \\\n",
      "0  97522e57-d9ab-4bd6-97bf-c24d952602d2        photo        Studying   \n",
      "1  97522e57-d9ab-4bd6-97bf-c24d952602d2        photo        Studying   \n",
      "2  97522e57-d9ab-4bd6-97bf-c24d952602d2        photo        Studying   \n",
      "3  9f737e0a-3cdd-4d29-9d24-753f4e3be810        photo  healthy eating   \n",
      "4  230c4e4d-70c3-461d-b42c-ec09396efb3f        photo  healthy eating   \n",
      "\n",
      "  reaction_type            Datetime Sentiment  Score  \n",
      "0       disgust 2020-11-07 09:43:50  negative      0  \n",
      "1       disgust 2021-01-06 19:13:01  negative      0  \n",
      "2       disgust 2021-04-09 02:46:20  negative      0  \n",
      "3       disgust 2021-03-28 21:15:26  negative      0  \n",
      "4       disgust 2020-08-04 05:40:33  negative      0  \n"
     ]
    }
   ],
   "source": [
    "# Merge the content and reaction tables\n",
    "merged_df = pd.merge(content, reaction, on='Content ID')\n",
    "\n",
    "# Merge the merged_df with the reaction_type table\n",
    "final_df = pd.merge(merged_df, reaction_type, on='reaction_type')\n",
    "\n",
    "# Display the final dataframe\n",
    "print(final_df.head())"
   ]
  },
  {
   "cell_type": "code",
   "execution_count": 29,
   "metadata": {},
   "outputs": [
    {
     "data": {
      "text/html": [
       "<div>\n",
       "<style scoped>\n",
       "    .dataframe tbody tr th:only-of-type {\n",
       "        vertical-align: middle;\n",
       "    }\n",
       "\n",
       "    .dataframe tbody tr th {\n",
       "        vertical-align: top;\n",
       "    }\n",
       "\n",
       "    .dataframe thead th {\n",
       "        text-align: right;\n",
       "    }\n",
       "</style>\n",
       "<table border=\"1\" class=\"dataframe\">\n",
       "  <thead>\n",
       "    <tr style=\"text-align: right;\">\n",
       "      <th></th>\n",
       "      <th>Content ID</th>\n",
       "      <th>Content_Type</th>\n",
       "      <th>Category</th>\n",
       "      <th>reaction_type</th>\n",
       "      <th>Datetime</th>\n",
       "      <th>Sentiment</th>\n",
       "      <th>Score</th>\n",
       "    </tr>\n",
       "  </thead>\n",
       "  <tbody>\n",
       "    <tr>\n",
       "      <th>0</th>\n",
       "      <td>97522e57-d9ab-4bd6-97bf-c24d952602d2</td>\n",
       "      <td>photo</td>\n",
       "      <td>Studying</td>\n",
       "      <td>disgust</td>\n",
       "      <td>2020-11-07 09:43:50</td>\n",
       "      <td>negative</td>\n",
       "      <td>0</td>\n",
       "    </tr>\n",
       "    <tr>\n",
       "      <th>1</th>\n",
       "      <td>97522e57-d9ab-4bd6-97bf-c24d952602d2</td>\n",
       "      <td>photo</td>\n",
       "      <td>Studying</td>\n",
       "      <td>disgust</td>\n",
       "      <td>2021-01-06 19:13:01</td>\n",
       "      <td>negative</td>\n",
       "      <td>0</td>\n",
       "    </tr>\n",
       "    <tr>\n",
       "      <th>2</th>\n",
       "      <td>97522e57-d9ab-4bd6-97bf-c24d952602d2</td>\n",
       "      <td>photo</td>\n",
       "      <td>Studying</td>\n",
       "      <td>disgust</td>\n",
       "      <td>2021-04-09 02:46:20</td>\n",
       "      <td>negative</td>\n",
       "      <td>0</td>\n",
       "    </tr>\n",
       "    <tr>\n",
       "      <th>3</th>\n",
       "      <td>9f737e0a-3cdd-4d29-9d24-753f4e3be810</td>\n",
       "      <td>photo</td>\n",
       "      <td>healthy eating</td>\n",
       "      <td>disgust</td>\n",
       "      <td>2021-03-28 21:15:26</td>\n",
       "      <td>negative</td>\n",
       "      <td>0</td>\n",
       "    </tr>\n",
       "    <tr>\n",
       "      <th>4</th>\n",
       "      <td>230c4e4d-70c3-461d-b42c-ec09396efb3f</td>\n",
       "      <td>photo</td>\n",
       "      <td>healthy eating</td>\n",
       "      <td>disgust</td>\n",
       "      <td>2020-08-04 05:40:33</td>\n",
       "      <td>negative</td>\n",
       "      <td>0</td>\n",
       "    </tr>\n",
       "  </tbody>\n",
       "</table>\n",
       "</div>"
      ],
      "text/plain": [
       "                             Content ID Content_Type        Category  \\\n",
       "0  97522e57-d9ab-4bd6-97bf-c24d952602d2        photo        Studying   \n",
       "1  97522e57-d9ab-4bd6-97bf-c24d952602d2        photo        Studying   \n",
       "2  97522e57-d9ab-4bd6-97bf-c24d952602d2        photo        Studying   \n",
       "3  9f737e0a-3cdd-4d29-9d24-753f4e3be810        photo  healthy eating   \n",
       "4  230c4e4d-70c3-461d-b42c-ec09396efb3f        photo  healthy eating   \n",
       "\n",
       "  reaction_type            Datetime Sentiment  Score  \n",
       "0       disgust 2020-11-07 09:43:50  negative      0  \n",
       "1       disgust 2021-01-06 19:13:01  negative      0  \n",
       "2       disgust 2021-04-09 02:46:20  negative      0  \n",
       "3       disgust 2021-03-28 21:15:26  negative      0  \n",
       "4       disgust 2020-08-04 05:40:33  negative      0  "
      ]
     },
     "execution_count": 29,
     "metadata": {},
     "output_type": "execute_result"
    }
   ],
   "source": [
    "final_df.head()"
   ]
  },
  {
   "cell_type": "code",
   "execution_count": 30,
   "metadata": {},
   "outputs": [
    {
     "data": {
      "image/png": "[encoded data removed]",
      "text/plain": [
       "<Figure size 576x576 with 1 Axes>"
      ]
     },
     "metadata": {},
     "output_type": "display_data"
    }
   ],
   "source": [
    "import matplotlib.pyplot as plt\n",
    "\n",
    "# Get the top 5 categories\n",
    "top_categories = final_df['Category'].value_counts().nlargest(5)\n",
    "\n",
    "# Create a pie chart\n",
    "fig, ax = plt.subplots(figsize=(8, 8))\n",
    "ax.pie(top_categories.values, labels=top_categories.index, autopct='%1.1f%%', startangle=90, pctdistance=0.85, colors=['#ffd31d', '#ff8c00', '#ff6666', '#7fff7f', '#00bfff'])\n",
    "\n",
    "# Add a circle at the center to create a donut chart\n",
    "circle = plt.Circle((0, 0), 0.70, fc='white')\n",
    "fig.gca().add_artist(circle)\n",
    "\n",
    "# Add a title\n",
    "ax.set_title('Top 5 Content Categories', fontsize=18, fontweight='bold')\n",
    "\n",
    "# Show the chart\n",
    "plt.show()\n"
   ]
  },
  {
   "cell_type": "code",
   "execution_count": 34,
   "metadata": {},
   "outputs": [
    {
     "data": {
      "image/png": "[encoded data removed]",
      "text/plain": [
       "<Figure size 576x360 with 1 Axes>"
      ]
     },
     "metadata": {
      "needs_background": "light"
     },
     "output_type": "display_data"
    }
   ],
   "source": [
    "import matplotlib.pyplot as plt\n",
    "\n",
    "# Get the top 5 categories by summing the 'Score' column\n",
    "top_categories = final_df.groupby('Category')['Score'].sum().nlargest(5)\n",
    "\n",
    "# Create a horizontal bar chart\n",
    "fig, ax = plt.subplots(figsize=(8, 5))\n",
    "ax.barh(top_categories.index, top_categories.values)\n",
    "\n",
    "# Set chart title and axis labels\n",
    "ax.set_title('Top 5 Content Categories by Popularity')\n",
    "ax.set_xlabel('Total Score')\n",
    "ax.set_ylabel('Category')\n",
    "\n",
    "# Invert y-axis to show highest score on top\n",
    "ax.invert_yaxis()\n",
    "\n",
    "# Add values above the bars\n",
    "for i, v in enumerate(top_categories.values):\n",
    "    ax.text(v + 1000, i - 0.1, str(v), color='white')\n",
    "\n",
    "# Show the plot\n",
    "plt.show()\n"
   ]
  },
  {
   "attachments": {},
   "cell_type": "markdown",
   "metadata": {},
   "source": [
    "🎯 Observation: One interesting insight from the count of reactions by category is that animals and healthy eating seem to be the most popular categories with the highest number of reactions, followed closely by technology and science. Cooking seems to be the least popular category among the users, with the lowest number of reactions."
   ]
  },
  {
   "cell_type": "code",
   "execution_count": 47,
   "metadata": {},
   "outputs": [
    {
     "data": {
      "image/png": "[encoded data removed]",
      "text/plain": [
       "<Figure size 576x432 with 1 Axes>"
      ]
     },
     "metadata": {},
     "output_type": "display_data"
    }
   ],
   "source": [
    "\n",
    "\n",
    "# Group by content type and count the number of entries in each group\n",
    "content_type_counts = final_df.groupby('Content_Type').size().reset_index(name='counts')\n",
    "\n",
    "# Sort the content type counts in descending order\n",
    "content_type_counts = content_type_counts.sort_values('counts', ascending=False)\n",
    "\n",
    "# Create a bar chart\n",
    "fig, ax = plt.subplots(figsize=(8, 6))\n",
    "ax.bar(content_type_counts['Content_Type'], content_type_counts['counts'])\n",
    "\n",
    "# Set the chart title and labels\n",
    "ax.set_title('Number of Posts by Content Type')\n",
    "ax.set_xlabel('Content Type')\n",
    "ax.set_ylabel('Number of Posts')\n",
    "\n",
    "# Rotate the x-axis labels to 45 degrees for readability\n",
    "plt.xticks(rotation=45)\n",
    "\n",
    "# Remove top and right spines\n",
    "ax = plt.gca()\n",
    "ax.spines['top'].set_visible(False)\n",
    "ax.spines['right'].set_visible(False)\n",
    "# Display the chart\n",
    "plt.show()\n"
   ]
  },
  {
   "cell_type": "code",
   "execution_count": 50,
   "metadata": {},
   "outputs": [
    {
     "data": {
      "text/html": [
       "<div>\n",
       "<style scoped>\n",
       "    .dataframe tbody tr th:only-of-type {\n",
       "        vertical-align: middle;\n",
       "    }\n",
       "\n",
       "    .dataframe tbody tr th {\n",
       "        vertical-align: top;\n",
       "    }\n",
       "\n",
       "    .dataframe thead th {\n",
       "        text-align: right;\n",
       "    }\n",
       "</style>\n",
       "<table border=\"1\" class=\"dataframe\">\n",
       "  <thead>\n",
       "    <tr style=\"text-align: right;\">\n",
       "      <th></th>\n",
       "      <th>Content_Type</th>\n",
       "      <th>counts</th>\n",
       "    </tr>\n",
       "  </thead>\n",
       "  <tbody>\n",
       "    <tr>\n",
       "      <th>2</th>\n",
       "      <td>photo</td>\n",
       "      <td>6589</td>\n",
       "    </tr>\n",
       "    <tr>\n",
       "      <th>3</th>\n",
       "      <td>video</td>\n",
       "      <td>6245</td>\n",
       "    </tr>\n",
       "    <tr>\n",
       "      <th>0</th>\n",
       "      <td>GIF</td>\n",
       "      <td>6079</td>\n",
       "    </tr>\n",
       "    <tr>\n",
       "      <th>1</th>\n",
       "      <td>audio</td>\n",
       "      <td>5660</td>\n",
       "    </tr>\n",
       "  </tbody>\n",
       "</table>\n",
       "</div>"
      ],
      "text/plain": [
       "  Content_Type  counts\n",
       "2        photo    6589\n",
       "3        video    6245\n",
       "0          GIF    6079\n",
       "1        audio    5660"
      ]
     },
     "execution_count": 50,
     "metadata": {},
     "output_type": "execute_result"
    }
   ],
   "source": [
    "content_type_counts"
   ]
  },
  {
   "attachments": {},
   "cell_type": "markdown",
   "metadata": {},
   "source": [
    "🎯 Observation: This data shows that among the four content types, photos are the most commonly shared, with a count of 6589. Videos come in second with 6245, followed by GIFs with 6079, and audio with 5660."
   ]
  },
  {
   "cell_type": "code",
   "execution_count": 53,
   "metadata": {},
   "outputs": [
    {
     "data": {
      "image/png": "[encoded data removed]",
      "text/plain": [
       "<Figure size 576x432 with 1 Axes>"
      ]
     },
     "metadata": {},
     "output_type": "display_data"
    }
   ],
   "source": [
    "import matplotlib.pyplot as plt\n",
    "import pandas as pd\n",
    "\n",
    "final_df['Month'] = final_df['Datetime'].dt.strftime('%B')\n",
    "\n",
    "posts_per_month = final_df.groupby(final_df['Month']).size()\n",
    "\n",
    "# Sort the series by index in ascending order\n",
    "posts_per_month = posts_per_month.sort_index()\n",
    "\n",
    "# Set figure size and style\n",
    "plt.figure(figsize=(8, 6))\n",
    "plt.style.use('ggplot')\n",
    "\n",
    "# Create line plot\n",
    "plt.plot(posts_per_month.index, posts_per_month.values, color='blue', linewidth=2)\n",
    "\n",
    "# Set x-axis labels\n",
    "month_names = ['January', 'February', 'March', 'April', 'May', 'June', 'July', 'August', 'September', 'October', 'November', 'December']\n",
    "plt.xticks(posts_per_month.index, month_names, rotation=45)\n",
    "\n",
    "# Add grid\n",
    "plt.grid(alpha=0.4)\n",
    "\n",
    "# Add title and axis labels\n",
    "plt.title('Posts per Month', fontsize=18)\n",
    "plt.xlabel('Month', fontsize=14)\n",
    "plt.ylabel('Number of Posts', fontsize=14)\n",
    "\n",
    "# Remove top and right spines\n",
    "ax = plt.gca()\n",
    "ax.spines['top'].set_visible(False)\n",
    "ax.spines['right'].set_visible(False)\n",
    "# Remove top and right spines\n",
    "ax = plt.gca()\n",
    "ax.spines['top'].set_visible(False)\n",
    "ax.spines['right'].set_visible(False)\n",
    "# Show plot\n",
    "plt.show()\n"
   ]
  },
  {
   "attachments": {},
   "cell_type": "markdown",
   "metadata": {},
   "source": [
    "🎯 Observation: he month with the highest number of posts is May, with 2138 posts, while February has the lowest number of posts, with 1914. The total number of posts varies from month to month, with a peak in May and a trough in February. Overall, the number of posts per month is relatively consistent, with the highest and lowest months differing by only 224 posts."
   ]
  },
  {
   "cell_type": "code",
   "execution_count": 60,
   "metadata": {},
   "outputs": [],
   "source": [
    "\n",
    "\n",
    "# create ExcelWriter object\n",
    "writer = pd.ExcelWriter('my_data.xlsx', engine='xlsxwriter')\n",
    "\n",
    "# write cleaned dataset to first sheet\n",
    "final_df.to_excel(writer, sheet_name='Cleaned Data')\n",
    "\n",
    "# write top 5 categories to second sheet\n",
    "top_categories.to_excel(writer, sheet_name='Top 5 Categories')\n",
    "\n",
    "# save the workbook\n",
    "writer.save()"
   ]
  },
  {
   "cell_type": "code",
   "execution_count": 61,
   "metadata": {},
   "outputs": [],
   "source": [
    "final_df.to_csv('df_clean.csv')"
   ]
  },
  {
   "attachments": {},
   "cell_type": "markdown",
   "metadata": {},
   "source": [
    "\n",
    "# 📌 Conclusion and Insights:\n",
    "\n",
    "\n",
    "# 🎯 animals, healthy eating, technology, science, and cooking. The highest-scoring category is animals with a total score of 69,548, followed closely by healthy eating with a score of 69,067. Technology ranks third with a score of 67,472, followed by science with a score of 66,043, and cooking with a score of 63,982.\n",
    "\n",
    "\n",
    "# 🎯 we can see that there is relatively consistent posting activity throughout the year, with the number of posts in each month being within a range of 1914 to 2138. However, it's worth noting that there are slightly more posts in September and May compared to the other months, which could indicate higher engagement or more popular content being shared during those months.\n",
    "\n",
    "\n",
    "\n",
    "# 🎯 Focus on creating more photo content as it is the most popular content type with 6589 posts, compared to 6245 videos, 6079 GIFs, and 5660 audio posts.\n",
    "\n",
    "\n"
   ]
  },
  {
   "cell_type": "markdown",
   "metadata": {},
   "source": []
  }
 ],
 "metadata": {
  "kernelspec": {
   "display_name": "minimal_ds",
   "language": "python",
   "name": "python3"
  },
  "language_info": {
   "codemirror_mode": {
    "name": "ipython",
    "version": 3
   },
   "file_extension": ".py",
   "mimetype": "text/x-python",
   "name": "python",
   "nbconvert_exporter": "python",
   "pygments_lexer": "ipython3",
   "version": "3.10.2"
  },
  "orig_nbformat": 4
 },
 "nbformat": 4,
 "nbformat_minor": 2
}
